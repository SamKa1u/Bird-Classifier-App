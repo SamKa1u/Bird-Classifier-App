{
 "cells": [
  {
   "metadata": {
    "ExecuteTime": {
     "end_time": "2025-06-26T09:45:42.048441Z",
     "start_time": "2025-06-26T09:45:28.612690Z"
    }
   },
   "cell_type": "code",
   "source": [
    "import gradio as gr\n",
    "import shutil\n",
    "import os\n",
    "import torch\n",
    "from transformers import pipeline"
   ],
   "id": "b1cba5f2a85a9978",
   "outputs": [
    {
     "name": "stderr",
     "output_type": "stream",
     "text": [
      "D:\\Users\\Sam\\Projects\\BirdApp\\.venv\\Lib\\site-packages\\tqdm\\auto.py:21: TqdmWarning: IProgress not found. Please update jupyter and ipywidgets. See https://ipywidgets.readthedocs.io/en/stable/user_install.html\n",
      "  from .autonotebook import tqdm as notebook_tqdm\n"
     ]
    }
   ],
   "execution_count": 1
  },
  {
   "metadata": {},
   "cell_type": "markdown",
   "source": "# Gradio UI Functions",
   "id": "b36c6d4fcc1109bd"
  },
  {
   "cell_type": "code",
   "id": "initial_id",
   "metadata": {
    "collapsed": true,
    "ExecuteTime": {
     "end_time": "2025-06-26T10:03:51.362502Z",
     "start_time": "2025-06-26T10:03:51.340986Z"
    }
   },
   "source": [
    "# handle classification based on img of bird\n",
    "def process_bird(fileobj):\n",
    "    path = \"D:\\\\Users\\Sam\\Projects\\BirdApp\\\\\" + os.path.basename(fileobj)\n",
    "    # copy file to path\n",
    "    shutil.copyfile(fileobj.name, path)\n",
    "    prediction = predict_img(path)\n",
    "    return prediction\n",
    "\n",
    "def predict_img(img_path):\n",
    "    # Use a pipeline as a high-level helper\n",
    "    img_pipe = pipeline(\"image-classification\", model=\"Emiel/cub-200-bird-classifier-swin\")\n",
    "    ## Running the inference\n",
    "    result = img_pipe(img_path)[0]\n",
    "    ## Printing the result label\n",
    "    return result['label'], img_path\n",
    "\n",
    "# handle classification based on bird song\n",
    "def process_birdsong(fileobj):\n",
    "    path = \"D:\\\\Users\\Sam\\Projects\\BirdApp\\\\\" + os.path.basename(fileobj)\n",
    "    # copy file to path\n",
    "    shutil.copyfile(fileobj.name, path)\n",
    "    prediction = predict_audio(path)\n",
    "    return prediction\n",
    "\n",
    "def predict_audio(audio_path):\n",
    "    # Use a pipeline as a high-level helper\n",
    "    audio_pipe = pipeline(\"audio-classification\", model=\"saadashraf/birds_model\") #DBD-research-group/Wav2Vec2-Base-BirdSet-XCL sgoedecke/wav2vec2_birdcalls JamesStratford/ast-finetuned-voice-of-birds\n",
    "    ## Running the inference\n",
    "    result = audio_pipe(audio_path)[0]\n",
    "    ## Printing the result label\n",
    "    return result['label']\n"
   ],
   "outputs": [],
   "execution_count": 9
  },
  {
   "metadata": {
    "ExecuteTime": {
     "end_time": "2025-06-26T23:24:43.226642Z",
     "start_time": "2025-06-26T10:03:52.970279Z"
    }
   },
   "cell_type": "code",
   "source": [
    "with gr.Blocks() as demo:\n",
    "    with gr.Tab(\"Image Classification\"):\n",
    "        gr.Interface(\n",
    "                    fn=process_bird,\n",
    "                    inputs=[\n",
    "                        \"file\",\n",
    "                    ],\n",
    "                    outputs= [gr.Textbox(label=\"Prediction:\"), gr.Image(label=\"Bird in Question:\")],\n",
    "                    flagging_mode = \"never\"\n",
    "                )\n",
    "    with gr.Tab(\"Song Classification\"):\n",
    "        gr.Interface(\n",
    "                    fn=process_birdsong,\n",
    "                    inputs=[\n",
    "                        \"file\",\n",
    "                    ],\n",
    "                    outputs= [gr.Textbox(label=\"Prediction:\")],\n",
    "                    flagging_mode = \"never\"\n",
    "                )\n",
    "\n",
    "\n",
    "gr.close_all()\n",
    "demo.launch(debug=True)"
   ],
   "id": "8bb7577cd6b4b43b",
   "outputs": [
    {
     "name": "stdout",
     "output_type": "stream",
     "text": [
      "* Running on local URL:  http://127.0.0.1:7860\n",
      "* To create a public link, set `share=True` in `launch()`.\n"
     ]
    },
    {
     "data": {
      "text/plain": [
       "<IPython.core.display.HTML object>"
      ],
      "text/html": [
       "<div><iframe src=\"http://127.0.0.1:7860/\" width=\"100%\" height=\"500\" allow=\"autoplay; camera; microphone; clipboard-read; clipboard-write;\" frameborder=\"0\" allowfullscreen></iframe></div>"
      ]
     },
     "metadata": {},
     "output_type": "display_data"
    },
    {
     "name": "stderr",
     "output_type": "stream",
     "text": [
      "D:\\Users\\Sam\\Projects\\BirdApp\\.venv\\Lib\\site-packages\\huggingface_hub\\file_download.py:143: UserWarning: `huggingface_hub` cache-system uses symlinks by default to efficiently store duplicated files but your machine does not support them in C:\\Users\\Sam\\.cache\\huggingface\\hub\\models--saadashraf--birds_model. Caching files will still work but in a degraded version that might require more space on your disk. This warning can be disabled by setting the `HF_HUB_DISABLE_SYMLINKS_WARNING` environment variable. For more details, see https://huggingface.co/docs/huggingface_hub/how-to-cache#limitations.\n",
      "To support symlinks on Windows, you either need to activate Developer Mode or to run Python as an administrator. In order to activate developer mode, see this article: https://docs.microsoft.com/en-us/windows/apps/get-started/enable-your-device-for-development\n",
      "  warnings.warn(message)\n",
      "Device set to use cpu\n",
      "D:\\Users\\Sam\\Projects\\BirdApp\\.venv\\Lib\\site-packages\\torch\\nn\\functional.py:5962: UserWarning: Support for mismatched key_padding_mask and attn_mask is deprecated. Use same type for both instead.\n",
      "  warnings.warn(\n",
      "Device set to use cpu\n"
     ]
    },
    {
     "name": "stdout",
     "output_type": "stream",
     "text": [
      "Keyboard interruption in main thread... closing server.\n"
     ]
    },
    {
     "data": {
      "text/plain": []
     },
     "execution_count": 10,
     "metadata": {},
     "output_type": "execute_result"
    }
   ],
   "execution_count": 10
  }
 ],
 "metadata": {
  "kernelspec": {
   "display_name": "Python 3",
   "language": "python",
   "name": "python3"
  },
  "language_info": {
   "codemirror_mode": {
    "name": "ipython",
    "version": 2
   },
   "file_extension": ".py",
   "mimetype": "text/x-python",
   "name": "python",
   "nbconvert_exporter": "python",
   "pygments_lexer": "ipython2",
   "version": "2.7.6"
  }
 },
 "nbformat": 4,
 "nbformat_minor": 5
}
